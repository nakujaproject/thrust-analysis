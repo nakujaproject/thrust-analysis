{
 "cells": [
  {
   "cell_type": "code",
   "execution_count": 1,
   "metadata": {},
   "outputs": [],
   "source": [
    "import csv\n",
    "import numpy as np\n",
    "import matplotlib.pyplot as plt"
   ]
  },
  {
   "cell_type": "code",
   "execution_count": 2,
   "metadata": {},
   "outputs": [],
   "source": [
    "INITIAL_PROPELANT_WEIGHT = 0.30  #Kg\n",
    "SAMPLE_RATE = 80\n",
    "time_constant = 1/SAMPLE_RATE\n",
    "dataFile = 'isiolo_practical.csv'"
   ]
  },
  {
   "cell_type": "code",
   "execution_count": 3,
   "metadata": {},
   "outputs": [],
   "source": [
    "with open(dataFile, newline='') as f:\n",
    "    reader = csv.reader(f)\n",
    "    data = list(reader)"
   ]
  },
  {
   "cell_type": "code",
   "execution_count": 4,
   "metadata": {},
   "outputs": [],
   "source": [
    "a = np.array(data)\n",
    "a = a.astype(float)\n",
    "filtered = a[np.where(a > 0)]"
   ]
  },
  {
   "cell_type": "code",
   "execution_count": 5,
   "metadata": {},
   "outputs": [
    {
     "data": {
      "text/plain": [
       "array([  0.      ,   0.354141,   0.993753,   1.222326,   3.528657,\n",
       "         4.902057,   4.465512,   3.957354,   3.912228,   6.550137,\n",
       "         8.374797,   8.963397,  10.145502,   9.577503,  10.546731,\n",
       "        13.087521,  14.178393,  18.45261 ,  21.375009,  26.391843,\n",
       "        30.887766,  35.39448 ,  42.626412,  53.593011,  63.854271,\n",
       "        71.296137,  82.534473,  90.873954,  98.800434, 105.315255,\n",
       "       108.834102, 112.248963, 116.657577, 119.065932, 121.974597,\n",
       "       126.593145, 129.422349, 132.263325, 136.239318, 140.193729,\n",
       "       143.852859, 145.683405, 149.475951, 152.564139, 155.612106,\n",
       "       158.670864, 163.275678, 167.783373, 171.904554, 181.572309,\n",
       "       189.227052, 193.31586 , 199.432395, 203.903793, 208.444842,\n",
       "       212.74947 , 214.275906, 216.314424, 218.189115, 221.98068 ,\n",
       "       224.773587, 226.037115, 228.226707, 229.197897, 233.449551,\n",
       "       234.61596 , 238.592934, 240.226299, 239.083434, 240.582402,\n",
       "       242.416872, 245.530566, 247.861422, 246.997161, 249.666462,\n",
       "       250.295283, 251.70498 , 254.071152, 254.846142, 257.310414,\n",
       "       257.050449, 257.661612, 258.475842, 259.733484, 259.364628,\n",
       "       260.97543 , 262.73142 , 263.582928, 264.865095, 264.532536,\n",
       "       264.441303, 265.859829, 265.955967, 265.992264, 267.10668 ,\n",
       "       267.600123, 269.069661, 269.144217, 267.929739, 270.10854 ,\n",
       "       271.723266, 269.462061, 270.604926, 270.987516, 272.108799,\n",
       "       273.499857, 273.516534, 276.101469, 274.703544, 275.011578,\n",
       "       275.842485, 275.174424, 274.119849, 272.714076, 274.695696,\n",
       "       273.707829, 271.119951, 271.205298, 270.831537, 271.584945,\n",
       "       270.458757, 270.197811, 269.975124, 269.597439, 268.753779,\n",
       "       269.145198, 268.464384, 269.560161, 268.382961, 267.073326,\n",
       "       265.495878, 264.800349, 266.501403, 266.344443, 263.600586,\n",
       "       263.735964, 263.461284, 261.88776 , 260.71056 , 259.595163,\n",
       "       257.383989, 255.175758, 252.876294, 249.902883, 249.514407,\n",
       "       247.149216, 244.909593, 244.162071, 240.045795, 238.472271,\n",
       "       234.562986,   0.      ])"
      ]
     },
     "execution_count": 5,
     "metadata": {},
     "output_type": "execute_result"
    }
   ],
   "source": [
    "filtered = np.append(filtered, 0)\n",
    "filtered = np.insert(filtered, 0, 0)\n",
    "filtered"
   ]
  },
  {
   "cell_type": "code",
   "execution_count": 6,
   "metadata": {},
   "outputs": [],
   "source": [
    "#filtered = np.delete(filtered, [1,2,3,4,10])\n",
    "burnTime = filtered.size * time_constant"
   ]
  },
  {
   "cell_type": "code",
   "execution_count": 7,
   "metadata": {},
   "outputs": [],
   "source": [
    "t = np.linspace(0, burnTime, filtered.size)\n",
    "thrust = filtered"
   ]
  },
  {
   "cell_type": "code",
   "execution_count": 8,
   "metadata": {},
   "outputs": [
    {
     "data": {
      "image/png": "[encoded data removed]",
      "text/plain": [
       "<Figure size 432x288 with 1 Axes>"
      ]
     },
     "metadata": {
      "needs_background": "light"
     },
     "output_type": "display_data"
    }
   ],
   "source": [
    "fig = plt.figure()\n",
    "plt.plot(t, thrust)\n",
    "fig.suptitle('Thrust against time')\n",
    "plt.xlabel('time (s)')\n",
    "plt.ylabel('thrust (N)')\n",
    "fig.savefig('graph')"
   ]
  },
  {
   "cell_type": "code",
   "execution_count": 9,
   "metadata": {},
   "outputs": [],
   "source": [
    "#total impulse\n",
    "#TODO --> Use trapezoidal rule for getting the total impulse\n",
    "totalImpulse = np.sum(thrust) * time_constant\n",
    "#specific impulse\n",
    "specificImpulse = totalImpulse / INITIAL_PROPELANT_WEIGHT\n",
    "#average thrust\n",
    "avgThrust = totalImpulse / burnTime"
   ]
  },
  {
   "cell_type": "code",
   "execution_count": 11,
   "metadata": {},
   "outputs": [],
   "source": [
    "def motorClass(totalImpulse):\n",
    "    if totalImpulse > 5120:\n",
    "        return 'M'\n",
    "    elif totalImpulse > 2560:\n",
    "        return 'L'\n",
    "    elif totalImpulse > 1280:\n",
    "        return 'K'\n",
    "    elif totalImpulse > 640:\n",
    "        return 'J'\n",
    "    elif totalImpulse > 320:\n",
    "        return 'I'\n",
    "    elif totalImpulse > 160:\n",
    "        return 'H'\n",
    "    elif totalImpulse > 80:\n",
    "        return 'G'\n",
    "    elif totalImpulse > 40:\n",
    "        return 'F'\n",
    "    elif totalImpulse > 20:\n",
    "        return 'E'\n",
    "    elif totalImpulse > 10:\n",
    "        return 'D'\n",
    "    elif totalImpulse > 5:\n",
    "        return 'C'\n",
    "    elif totalImpulse > 2.5:\n",
    "        return 'B'\n",
    "    elif totalImpulse > 1.25:\n",
    "        return 'A'\n",
    "    elif totalImpulse > 0.625:\n",
    "        return '1/2A'\n",
    "    elif totalImpulse > 0.3126:\n",
    "        return '1/4A'\n",
    "    else:\n",
    "        return 'micro'\n",
    "    \n",
    "Class = motorClass(totalImpulse)"
   ]
  },
  {
   "cell_type": "code",
   "execution_count": 12,
   "metadata": {},
   "outputs": [
    {
     "name": "stdout",
     "output_type": "stream",
     "text": [
      "Total Impulse:\t\t367.20\tN-sec \n",
      "Specific Impulse:\t1224.01\tN-sec/Kg \n",
      "Average Thrust:\t\t193.26\tN\n",
      "Motor Class:\t\tI\n"
     ]
    }
   ],
   "source": [
    "st = \"Total Impulse:\\t\\t{:.2f}\\tN-sec \\nSpecific Impulse:\\t{:.2f}\\tN-sec/Kg \\nAverage Thrust:\\t\\t{:.2f}\\tN\"\n",
    "print(st.format(totalImpulse, specificImpulse, avgThrust))\n",
    "print(\"Motor Class:\\t\\t{}\".format(Class))"
   ]
  },
  {
   "cell_type": "code",
   "execution_count": 13,
   "metadata": {},
   "outputs": [],
   "source": [
    "#Generate Rasp File\n",
    "filename = input(\"Enter rasp file name\")\n",
    "filename = filename + \".eng\"\n",
    "f = open(filename, \"a\")"
   ]
  },
  {
   "cell_type": "code",
   "execution_count": 14,
   "metadata": {},
   "outputs": [],
   "source": [
    "motorName = Class + str(int(avgThrust))\n",
    "diameter = input(\"Enter Motor Diameter (mm): \")\n",
    "Length = input(\"Input motor Length (mm): \")\n",
    "delays = input(\"Input motor delays separated by dashes or P(plugged) for none: \")\n",
    "pWeight = input(\"Propellant Weight (Kg): \")\n",
    "totalWeight = input(\"Motor Total Weight (Kg): \")\n",
    "manufucturer = \"NKJ\""
   ]
  },
  {
   "cell_type": "code",
   "execution_count": 15,
   "metadata": {},
   "outputs": [
    {
     "data": {
      "text/plain": [
       "27"
      ]
     },
     "execution_count": 15,
     "metadata": {},
     "output_type": "execute_result"
    }
   ],
   "source": [
    "#Write rasp file header\n",
    "f.write(\"; NakujaProject\" + motorName + \"\\n\")\n",
    "f.write(\"; from \" + dataFile + \"\\n\")\n",
    "f.write(\"{} {} {} {} {} {} {} \\n\".format(motorName, diameter, Length, delays, pWeight, totalWeight, manufucturer))"
   ]
  },
  {
   "cell_type": "code",
   "execution_count": 16,
   "metadata": {},
   "outputs": [],
   "source": [
    "thrustATime = np.array([t, thrust]).T\n",
    "np.savetxt(f, thrustATime, delimiter=' ')"
   ]
  },
  {
   "cell_type": "code",
   "execution_count": 17,
   "metadata": {},
   "outputs": [],
   "source": [
    "f.close()"
   ]
  },
  {
   "cell_type": "code",
   "execution_count": null,
   "metadata": {},
   "outputs": [],
   "source": []
  }
 ],
 "metadata": {
  "kernelspec": {
   "display_name": "Python 3.10.6 64-bit",
   "language": "python",
   "name": "python3"
  },
  "language_info": {
   "codemirror_mode": {
    "name": "ipython",
    "version": 3
   },
   "file_extension": ".py",
   "mimetype": "text/x-python",
   "name": "python",
   "nbconvert_exporter": "python",
   "pygments_lexer": "ipython3",
   "version": "3.10.6"
  },
  "vscode": {
   "interpreter": {
    "hash": "df95319d8ce4e1d89f5365ae10992bc1f65da593082b1d264e8f529830ec2f02"
   }
  }
 },
 "nbformat": 4,
 "nbformat_minor": 4
}
