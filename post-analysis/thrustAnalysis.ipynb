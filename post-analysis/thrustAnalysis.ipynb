{
 "cells": [
  {
   "cell_type": "code",
   "execution_count": 1,
   "metadata": {},
   "outputs": [],
   "source": [
    "import csv\n",
    "import numpy as np\n",
    "import matplotlib.pyplot as plt"
   ]
  },
  {
   "cell_type": "code",
   "execution_count": 2,
   "metadata": {},
   "outputs": [],
   "source": [
    "INITIAL_PROPELANT_WEIGHT = 0.30  #Kg\n",
    "SAMPLE_RATE = 80\n",
    "time_constant = 1/SAMPLE_RATE\n",
    "dataFile = 'june_21_b.csv'"
   ]
  },
  {
   "cell_type": "code",
   "execution_count": 3,
   "metadata": {},
   "outputs": [],
   "source": [
    "with open(dataFile, newline='') as f:\n",
    "    reader = csv.reader(f)\n",
    "    data = list(reader)"
   ]
  },
  {
   "cell_type": "code",
   "execution_count": 4,
   "metadata": {},
   "outputs": [],
   "source": [
    "a = np.array(data)\n",
    "a = a.astype(float)\n",
    "filtered = a[np.where(a > 0)]"
   ]
  },
  {
   "cell_type": "code",
   "execution_count": 5,
   "metadata": {},
   "outputs": [
    {
     "data": {
      "text/plain": [
       "array([0.00000000e+00, 1.76580000e-01, 1.36653300e+00, 3.85336800e+00,\n",
       "       6.75222300e+00, 1.20888630e+01, 1.97926560e+01, 3.22690140e+01,\n",
       "       5.27522940e+01, 8.46632430e+01, 1.18500876e+02, 1.35200439e+02,\n",
       "       1.36226565e+02, 1.36359981e+02, 1.37236014e+02, 1.39649274e+02,\n",
       "       1.40934384e+02, 1.41853581e+02, 1.45241955e+02, 1.47709170e+02,\n",
       "       1.47429585e+02, 1.46766429e+02, 1.48380174e+02, 1.51028874e+02,\n",
       "       1.53147834e+02, 1.54116081e+02, 1.55740617e+02, 1.56992373e+02,\n",
       "       1.59480189e+02, 1.61109630e+02, 1.64817810e+02, 1.64756007e+02,\n",
       "       1.65927321e+02, 1.69454016e+02, 1.71374814e+02, 1.70041635e+02,\n",
       "       1.78942248e+02, 1.81696896e+02, 1.86594048e+02, 1.85120586e+02,\n",
       "       1.83012417e+02, 1.88077320e+02, 1.90756431e+02, 1.95488775e+02,\n",
       "       1.93392378e+02, 1.98004059e+02, 1.98454338e+02, 2.01889800e+02,\n",
       "       2.04310908e+02, 2.04638562e+02, 2.05924653e+02, 2.08850976e+02,\n",
       "       2.14108155e+02, 2.16530244e+02, 2.17635831e+02, 2.20814271e+02,\n",
       "       2.26765998e+02, 2.23647399e+02, 2.31051987e+02, 2.30977431e+02,\n",
       "       2.29482387e+02, 2.40204717e+02, 2.44927251e+02, 2.44719279e+02,\n",
       "       2.46006351e+02, 2.49080805e+02, 2.53029330e+02, 2.60468253e+02,\n",
       "       2.59741332e+02, 2.55976254e+02, 2.62104561e+02, 2.66669154e+02,\n",
       "       2.70258633e+02, 2.70975744e+02, 2.68462422e+02, 2.74983129e+02,\n",
       "       2.82230757e+02, 2.82551544e+02, 2.74333707e+02, 2.80985868e+02,\n",
       "       2.88633744e+02, 2.90585934e+02, 2.91145104e+02, 2.99697462e+02,\n",
       "       2.96756424e+02, 3.00403782e+02, 3.05019387e+02, 3.06981387e+02,\n",
       "       3.05894439e+02, 3.08321433e+02, 3.16657971e+02, 3.11488101e+02,\n",
       "       3.05456913e+02, 3.09150378e+02, 3.13287255e+02, 3.10485519e+02,\n",
       "       3.10689567e+02, 3.13412823e+02, 3.15449379e+02, 3.05990577e+02,\n",
       "       3.03128019e+02, 3.06715536e+02, 3.08593170e+02, 3.06129879e+02,\n",
       "       3.04839864e+02, 3.07807389e+02, 3.09644802e+02, 3.06223074e+02,\n",
       "       3.05354889e+02, 2.99140254e+02, 2.95667514e+02, 2.95589034e+02,\n",
       "       2.97787455e+02, 2.99258955e+02, 2.87230914e+02, 2.82519171e+02,\n",
       "       2.88867222e+02, 2.86047828e+02, 2.72471769e+02, 2.70902169e+02,\n",
       "       2.75876820e+02, 2.74707468e+02, 2.73677418e+02, 2.74508325e+02,\n",
       "       2.66511213e+02, 2.57542911e+02, 2.48904225e+02, 2.45985750e+02,\n",
       "       2.48249898e+02, 2.41438815e+02, 2.39228622e+02, 2.35526328e+02,\n",
       "       2.31815205e+02, 2.28262023e+02, 2.30699808e+02, 2.30467311e+02,\n",
       "       2.16515529e+02, 2.00545830e+02, 1.97232993e+02, 1.99292112e+02,\n",
       "       1.92780234e+02, 1.74079431e+02, 1.78492950e+02, 1.74514014e+02,\n",
       "       1.65553560e+02, 1.70370270e+02, 1.59589080e+02, 1.49967432e+02,\n",
       "       1.43674317e+02, 1.41412131e+02, 1.42491231e+02, 1.42375473e+02,\n",
       "       1.33901595e+02, 1.26485235e+02, 1.22773131e+02, 1.17932877e+02,\n",
       "       1.11878145e+02, 1.09925955e+02, 1.10102535e+02, 1.08630054e+02,\n",
       "       1.02430134e+02, 9.52207650e+01, 9.35108820e+01, 9.37384740e+01,\n",
       "       8.89855290e+01, 8.92994490e+01, 8.73815940e+01, 8.53420950e+01,\n",
       "       8.17006230e+01, 7.87174020e+01, 7.60549680e+01, 7.04779830e+01,\n",
       "       6.71533740e+01, 6.37404750e+01, 6.18971760e+01, 6.15185100e+01,\n",
       "       5.73492600e+01, 5.52665970e+01, 5.53097610e+01, 5.29847910e+01,\n",
       "       5.18478120e+01, 4.96592010e+01, 4.75245450e+01, 4.62315870e+01,\n",
       "       4.35995640e+01, 4.07183670e+01, 3.84601050e+01, 3.74742000e+01,\n",
       "       3.57515640e+01, 3.46822740e+01, 3.27830580e+01, 3.31911540e+01,\n",
       "       3.10574790e+01, 2.83499190e+01, 2.83136220e+01, 2.73286980e+01,\n",
       "       2.65134870e+01, 2.53892610e+01, 2.51920800e+01, 2.42581680e+01,\n",
       "       2.30368230e+01, 2.18684520e+01, 2.11493790e+01, 1.99613880e+01,\n",
       "       1.84918500e+01, 1.80562860e+01, 1.75785390e+01, 1.73656620e+01,\n",
       "       1.65278880e+01, 1.53467640e+01, 1.50730650e+01, 1.51211340e+01,\n",
       "       1.35584010e+01, 1.23105690e+01, 1.04054670e+01, 1.04388210e+01,\n",
       "       1.03534740e+01, 9.72563400e+00, 8.65143900e+00, 7.69202100e+00,\n",
       "       7.25449500e+00, 7.63904700e+00, 7.13383200e+00, 5.97919500e+00,\n",
       "       5.99881500e+00, 5.51714400e+00, 4.94816400e+00, 4.71468600e+00,\n",
       "       4.90205700e+00, 3.32362800e+00, 2.01987900e+00, 2.89885500e+00,\n",
       "       2.56629600e+00, 1.89038700e+00, 1.41165900e+00, 1.10853000e+00,\n",
       "       1.57744800e+00, 8.65242000e-01, 5.72904000e-01, 3.13920000e-02,\n",
       "       0.00000000e+00])"
      ]
     },
     "execution_count": 5,
     "metadata": {},
     "output_type": "execute_result"
    }
   ],
   "source": [
    "filtered = np.append(filtered, 0)\n",
    "filtered = np.insert(filtered, 0, 0)\n",
    "filtered"
   ]
  },
  {
   "cell_type": "code",
   "execution_count": 6,
   "metadata": {},
   "outputs": [],
   "source": [
    "#filtered = np.delete(filtered, [1,2,3,4,10])\n",
    "burnTime = filtered.size * time_constant"
   ]
  },
  {
   "cell_type": "code",
   "execution_count": 7,
   "metadata": {},
   "outputs": [],
   "source": [
    "t = np.linspace(0, burnTime, filtered.size)\n",
    "thrust = filtered"
   ]
  },
  {
   "cell_type": "code",
   "execution_count": 8,
   "metadata": {},
   "outputs": [
    {
     "data": {
      "image/png": "[encoded data removed]",
      "text/plain": [
       "<Figure size 432x288 with 1 Axes>"
      ]
     },
     "metadata": {
      "needs_background": "light"
     },
     "output_type": "display_data"
    }
   ],
   "source": [
    "fig = plt.figure()\n",
    "plt.plot(t, thrust)\n",
    "fig.suptitle('Thrust against time')\n",
    "plt.xlabel('time (s)')\n",
    "plt.ylabel('thrust (N)')\n",
    "fig.savefig('graph')"
   ]
  },
  {
   "cell_type": "code",
   "execution_count": 9,
   "metadata": {},
   "outputs": [],
   "source": [
    "#total impulse\n",
    "#TODO --> Use trapezoidal rule for getting the total impulse\n",
    "totalImpulse = np.sum(thrust) * time_constant\n",
    "#specific impulse\n",
    "specificImpulse = totalImpulse / INITIAL_PROPELANT_WEIGHT\n",
    "#average thrust\n",
    "avgThrust = totalImpulse / burnTime"
   ]
  },
  {
   "cell_type": "code",
   "execution_count": 10,
   "metadata": {},
   "outputs": [],
   "source": [
    "def motorClass(totalImpulse):\n",
    "    if totalImpulse > 5120:\n",
    "        return 'M'\n",
    "    elif totalImpulse > 2560:\n",
    "        return 'L'\n",
    "    elif totalImpulse > 1280:\n",
    "        return 'K'\n",
    "    elif totalImpulse > 640:\n",
    "        return 'J'\n",
    "    elif totalImpulse > 320:\n",
    "        return 'I'\n",
    "    elif totalImpulse > 160:\n",
    "        return 'H'\n",
    "    elif totalImpulse > 80:\n",
    "        return 'G'\n",
    "    elif totalImpulse > 40:\n",
    "        return 'F'\n",
    "    elif totalImpulse > 20:\n",
    "        return 'E'\n",
    "    elif totalImpulse > 10:\n",
    "        return 'D'\n",
    "    elif totalImpulse > 5:\n",
    "        return 'C'\n",
    "    elif totalImpulse > 2.5:\n",
    "        return 'B'\n",
    "    elif totalImpulse > 1.25:\n",
    "        return 'A'\n",
    "    elif totalImpulse > 0.625:\n",
    "        return '1/2A'\n",
    "    elif totalImpulse > 0.3126:\n",
    "        return '1/4A'\n",
    "    else:\n",
    "        return 'micro'\n",
    "    \n",
    "Class = motorClass(totalImpulse)"
   ]
  },
  {
   "cell_type": "code",
   "execution_count": 11,
   "metadata": {},
   "outputs": [
    {
     "name": "stdout",
     "output_type": "stream",
     "text": [
      "Total Impulse:\t\t457.15\tN-sec \n",
      "Specific Impulse:\t1523.83\tN-sec/Kg \n",
      "Average Thrust:\t\t151.75\tN\n",
      "Motor Class:\t\tI\n"
     ]
    }
   ],
   "source": [
    "st = \"Total Impulse:\\t\\t{:.2f}\\tN-sec \\nSpecific Impulse:\\t{:.2f}\\tN-sec/Kg \\nAverage Thrust:\\t\\t{:.2f}\\tN\"\n",
    "print(st.format(totalImpulse, specificImpulse, avgThrust))\n",
    "print(\"Motor Class:\\t\\t{}\".format(Class))"
   ]
  },
  {
   "cell_type": "code",
   "execution_count": 12,
   "metadata": {},
   "outputs": [
    {
     "name": "stdin",
     "output_type": "stream",
     "text": [
      "Enter rasp file name june_21\n"
     ]
    }
   ],
   "source": [
    "#Generate Rasp File\n",
    "filename = input(\"Enter rasp file name\")\n",
    "filename = filename + \".eng\"\n",
    "f = open(filename, \"a\")"
   ]
  },
  {
   "cell_type": "code",
   "execution_count": 13,
   "metadata": {},
   "outputs": [
    {
     "name": "stdin",
     "output_type": "stream",
     "text": [
      "Enter Motor Diameter (mm):  50\n",
      "Input motor Length (mm):  200\n",
      "Input motor delays separated by dashes or P(plugged) for none:  P\n",
      "Propellant Weight (Kg):  0.6\n",
      "Motor Total Weight (Kg):  1.2\n"
     ]
    }
   ],
   "source": [
    "motorName = Class + str(int(avgThrust))\n",
    "diameter = input(\"Enter Motor Diameter (mm): \")\n",
    "Length = input(\"Input motor Length (mm): \")\n",
    "delays = input(\"Input motor delays separated by dashes or P(plugged) for none: \")\n",
    "pWeight = input(\"Propellant Weight (Kg): \")\n",
    "totalWeight = input(\"Motor Total Weight (Kg): \")\n",
    "manufucturer = \"NKJ\""
   ]
  },
  {
   "cell_type": "code",
   "execution_count": 14,
   "metadata": {},
   "outputs": [
    {
     "data": {
      "text/plain": [
       "27"
      ]
     },
     "execution_count": 14,
     "metadata": {},
     "output_type": "execute_result"
    }
   ],
   "source": [
    "#Write rasp file header\n",
    "f.write(\"; NakujaProject\" + motorName + \"\\n\")\n",
    "f.write(\"; from \" + dataFile + \"\\n\")\n",
    "f.write(\"{} {} {} {} {} {} {} \\n\".format(motorName, diameter, Length, delays, pWeight, totalWeight, manufucturer))"
   ]
  },
  {
   "cell_type": "code",
   "execution_count": 15,
   "metadata": {},
   "outputs": [],
   "source": [
    "thrustATime = np.array([t, thrust]).T\n",
    "np.savetxt(f, thrustATime, delimiter=' ')"
   ]
  },
  {
   "cell_type": "code",
   "execution_count": 16,
   "metadata": {},
   "outputs": [],
   "source": [
    "f.close()"
   ]
  },
  {
   "cell_type": "code",
   "execution_count": null,
   "metadata": {},
   "outputs": [],
   "source": []
  }
 ],
 "metadata": {
  "kernelspec": {
   "display_name": "Python 3 (ipykernel)",
   "language": "python",
   "name": "python3"
  },
  "language_info": {
   "codemirror_mode": {
    "name": "ipython",
    "version": 3
   },
   "file_extension": ".py",
   "mimetype": "text/x-python",
   "name": "python",
   "nbconvert_exporter": "python",
   "pygments_lexer": "ipython3",
   "version": "3.10.2"
  }
 },
 "nbformat": 4,
 "nbformat_minor": 4
}
