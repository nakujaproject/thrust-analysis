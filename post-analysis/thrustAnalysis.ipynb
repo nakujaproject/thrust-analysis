{
 "cells": [
  {
   "cell_type": "code",
   "execution_count": 1,
   "metadata": {},
   "outputs": [],
   "source": [
    "import csv\n",
    "import numpy as np\n",
    "import matplotlib.pyplot as plt"
   ]
  },
  {
   "cell_type": "code",
   "execution_count": 2,
   "metadata": {},
   "outputs": [],
   "source": [
    "INITIAL_PROPELANT_WEIGHT = 0.30  #Kg\n",
    "SAMPLE_RATE = 80\n",
    "time_constant = 1/SAMPLE_RATE\n",
    "dataFile = 'March_02.csv'"
   ]
  },
  {
   "cell_type": "code",
   "execution_count": 3,
   "metadata": {},
   "outputs": [],
   "source": [
    "with open(dataFile, newline='') as f:\n",
    "    reader = csv.reader(f)\n",
    "    data = list(reader)"
   ]
  },
  {
   "cell_type": "code",
   "execution_count": 4,
   "metadata": {},
   "outputs": [],
   "source": [
    "a = np.array(data)\n",
    "a = a.astype(float)\n",
    "filtered = a[np.where(a > 0)]"
   ]
  },
  {
   "cell_type": "code",
   "execution_count": 5,
   "metadata": {},
   "outputs": [
    {
     "data": {
      "text/plain": [
       "array([ 0.      ,  3.      ,  5.431797,  7.848   ,  8.841753,  6.608016,\n",
       "        3.627738,  4.274217,  7.134813, 10.105281,  9.324405,  4.034853,\n",
       "        1.586277,  5.569137,  7.499745,  9.061497,  9.392094,  5.466132,\n",
       "        3.836691,  5.008005,  9.782532, 11.719026,  6.58251 ,  2.643795,\n",
       "        3.702294,  7.356519, 10.84005 , 11.519883,  6.447132,  1.494063,\n",
       "        3.666978,  7.631199, 11.421783, 11.817126,  5.30721 ,  1.403811,\n",
       "        3.519828,  9.391113, 14.652216,  9.406809,  3.055815,  2.1582  ,\n",
       "        6.030207, 11.447289, 14.120514,  8.664192,  1.554885,  2.896893,\n",
       "        7.644933, 12.785373, 14.036148,  6.039036,  1.555866,  4.493961,\n",
       "       11.447289, 17.254809,  8.481726,  1.266471,  4.203585,  5.875209,\n",
       "       13.170906, 16.160994,  7.00434 ,  2.233737,  3.964221, 10.178856,\n",
       "       16.819245, 13.062996,  4.461588,  1.768743,  3.430557,  8.630838,\n",
       "       15.665589, 15.292809,  6.096915,  1.81485 ,  6.542289, 12.070224,\n",
       "       19.48266 , 10.157274,  3.269673,  6.389253,  4.661712, 14.405985,\n",
       "       20.555874,  8.68185 ,  0.26487 ,  4.968765,  9.794304, 12.718665,\n",
       "       22.446261,  9.424467,  6.869943,  9.002637, 14.300037, 20.583342,\n",
       "       12.617622,  3.550239,  5.996853,  9.842373, 17.407845, 18.322137,\n",
       "       10.950903,  4.616586,  4.422348, 10.906758, 14.875884, 20.219391,\n",
       "       11.489472,  9.53532 , 16.254189, 14.366745, 20.331225, 14.180355,\n",
       "       11.401182, 16.931079, 19.052982, 19.662183, 16.822188, 16.208082,\n",
       "       14.439339, 17.892459, 17.886573, 18.453591, 19.785789, 19.442439,\n",
       "       19.552311, 20.423439, 18.761625, 18.896022, 22.581639, 23.91678 ,\n",
       "       24.925248, 25.026291, 22.002849, 24.696675, 25.490304, 27.073638,\n",
       "       27.403254, 28.463715, 28.979721, 30.790647, 31.809906, 32.42205 ,\n",
       "       32.437746, 32.604516, 33.973992, 34.918695, 35.367012, 35.212995,\n",
       "       35.829063, 37.293696, 37.531098, 37.821474, 38.856429, 39.928662,\n",
       "       41.111748, 42.108444, 42.278157, 43.872282, 44.098893, 45.642006,\n",
       "       46.808415, 46.24434 , 47.164518, 47.76489 , 48.282858, 49.360977,\n",
       "       48.998007, 50.839344, 51.609429, 51.413229, 51.517215, 51.388704,\n",
       "       53.157447, 53.264376, 53.507664, 52.524702, 53.529246, 54.262053,\n",
       "       54.552429, 53.839242, 55.134162, 55.119447, 54.919323, 55.607985,\n",
       "       55.918962, 56.512467, 56.069055, 55.627605, 54.990936, 56.017062,\n",
       "       56.699838, 55.798299, 54.645624, 56.310381, 57.078504, 56.356488,\n",
       "       53.947152, 55.378431, 57.3885  , 55.490265, 55.653111, 55.362735,\n",
       "       56.245635, 56.961765, 54.719199, 53.368362, 56.511486, 57.089295,\n",
       "       55.000746, 55.288179, 55.860102, 57.40812 , 56.41731 , 55.513809,\n",
       "       53.911836, 55.169478, 56.059245, 55.460835, 54.574011, 55.098846,\n",
       "       55.693332, 56.797938, 55.234224, 54.271863, 55.66194 , 56.209338,\n",
       "       55.361754, 53.638137, 55.694313, 56.431044, 54.415089, 55.350963,\n",
       "       56.217186, 55.978803, 56.205414, 56.151459, 54.907551, 56.14263 ,\n",
       "       56.271141, 55.370583, 55.147896, 55.697256, 56.018043, 55.486341,\n",
       "       55.009575, 56.063169, 56.430063, 54.750591, 54.570087, 56.716515,\n",
       "       56.76066 , 53.675415, 55.752192, 56.293704, 54.42588 , 54.222813,\n",
       "       55.095903, 54.841824, 54.479835, 53.674434, 55.562859, 55.977822,\n",
       "       53.860824, 53.414469, 53.633232, 53.483139, 53.718579, 52.092081,\n",
       "       53.117226, 53.163333, 52.71894 , 51.95376 , 53.804907, 53.277129,\n",
       "       50.237991, 50.964912, 53.210421, 51.636897, 49.394331, 50.498937,\n",
       "       51.599619, 50.296851, 48.998007, 50.524443, 51.228801, 49.674897,\n",
       "       47.654037, 48.860667, 50.257611, 48.791997, 46.70541 , 48.145518,\n",
       "       47.250846, 46.047159, 46.98009 , 47.609892, 47.000691, 46.505286,\n",
       "       46.518039, 46.385604, 47.25477 , 46.851579, 44.198955, 45.085779,\n",
       "       46.776042, 46.015767, 45.6165  , 45.29277 , 45.863712, 44.982774,\n",
       "       44.396136, 44.829738, 46.699524, 45.756783, 44.860149, 43.917408,\n",
       "       44.186202, 45.583146, 44.002755, 43.560324, 44.334333, 43.617222,\n",
       "       43.802631, 43.606431, 45.128943, 44.526609, 42.792201, 43.879149,\n",
       "       44.881731, 44.670816, 43.675101, 42.773562, 42.895206, 43.177734,\n",
       "       43.198335, 43.032546, 43.284663, 42.635241, 42.826536, 43.812441,\n",
       "       43.489692, 42.058413, 42.535179, 44.269587, 43.716303, 42.197715,\n",
       "       42.309549, 43.900731, 44.603127, 44.470692, 42.412554, 42.378219,\n",
       "       44.925876, 43.739847, 41.901453, 42.157494, 44.489331, 43.957629,\n",
       "       41.915187, 42.226164, 45.374193, 43.04628 , 42.161418, 43.776144,\n",
       "       42.916788, 42.346827, 42.909921, 42.494958, 41.930883, 41.228487,\n",
       "       41.424687, 42.297777, 42.861852, 42.895206, 41.858289, 42.238917,\n",
       "       44.413794, 43.04628 , 42.760809, 44.012565, 42.790239, 42.431193,\n",
       "       42.991344, 42.505749, 41.954427, 41.060736, 40.27005 , 40.654602,\n",
       "       39.498984, 38.069667, 37.963719, 37.538946, 35.480808, 35.066826,\n",
       "       34.044624, 30.349197, 30.383532, 29.621295, 26.023968, 24.385698,\n",
       "       22.835718, 21.033621, 19.344339, 15.672456, 13.430871, 13.86153 ,\n",
       "       15.02892 , 10.205343,  5.983119,  9.455859, 10.296576,  8.958492,\n",
       "        7.105383,  7.198578,  6.225426,  6.919974,  7.046523,  6.07239 ,\n",
       "        6.360804,  6.114573,  5.055093,  5.381766,  4.982499,  3.828843,\n",
       "        4.36545 ,  4.034853,  3.350115,  3.807261,  3.637548,  2.873349,\n",
       "        3.127428,  3.459987,  2.943   ,  2.710503,  2.265129,  1.770705,\n",
       "        1.956114,  1.707921,  1.48131 ,  1.333179,  1.023183,  0.930969,\n",
       "        1.087929,  1.032993,  0.800496,  0.717111,  0.557208,  0.424773,\n",
       "        0.40221 ,  0.214839,  0.05886 ,  0.      ])"
      ]
     },
     "execution_count": 5,
     "metadata": {},
     "output_type": "execute_result"
    }
   ],
   "source": [
    "filtered = np.append(filtered, 0)\n",
    "filtered = np.insert(filtered, 0, 0)\n",
    "filtered"
   ]
  },
  {
   "cell_type": "code",
   "execution_count": 6,
   "metadata": {},
   "outputs": [],
   "source": [
    "#filtered = np.delete(filtered, [1,2,3,4,10])\n",
    "burnTime = filtered.size * time_constant"
   ]
  },
  {
   "cell_type": "code",
   "execution_count": 7,
   "metadata": {},
   "outputs": [],
   "source": [
    "t = np.linspace(0, burnTime, filtered.size)\n",
    "thrust = filtered"
   ]
  },
  {
   "cell_type": "code",
   "execution_count": 8,
   "metadata": {},
   "outputs": [
    {
     "data": {
      "image/png": "[encoded data removed]",
      "text/plain": [
       "<Figure size 432x288 with 1 Axes>"
      ]
     },
     "metadata": {
      "needs_background": "light"
     },
     "output_type": "display_data"
    }
   ],
   "source": [
    "fig = plt.figure()\n",
    "plt.plot(t, thrust)\n",
    "fig.suptitle('Thrust against time')\n",
    "plt.xlabel('time (s)')\n",
    "plt.ylabel('thrust (N)')\n",
    "fig.savefig('graph')"
   ]
  },
  {
   "cell_type": "code",
   "execution_count": 9,
   "metadata": {},
   "outputs": [],
   "source": [
    "#total impulse\n",
    "totalImpulse = np.sum(thrust) * time_constant\n",
    "#specific impulse\n",
    "specificImpulse = totalImpulse / INITIAL_PROPELANT_WEIGHT\n",
    "#average thrust\n",
    "avgThrust = totalImpulse / burnTime"
   ]
  },
  {
   "cell_type": "code",
   "execution_count": 10,
   "metadata": {},
   "outputs": [],
   "source": [
    "def motorClass(totalImpulse):\n",
    "    if totalImpulse > 5120:\n",
    "        return 'M'\n",
    "    elif totalImpulse > 2560:\n",
    "        return 'L'\n",
    "    elif totalImpulse > 1280:\n",
    "        return 'K'\n",
    "    elif totalImpulse > 640:\n",
    "        return 'J'\n",
    "    elif totalImpulse > 320:\n",
    "        return 'I'\n",
    "    elif totalImpulse > 160:\n",
    "        return 'H'\n",
    "    elif totalImpulse > 80:\n",
    "        return 'G'\n",
    "    elif totalImpulse > 40:\n",
    "        return 'F'\n",
    "    elif totalImpulse > 20:\n",
    "        return 'E'\n",
    "    elif totalImpulse > 10:\n",
    "        return 'D'\n",
    "    elif totalImpulse > 5:\n",
    "        return 'C'\n",
    "    elif totalImpulse > 2.5:\n",
    "        return 'B'\n",
    "    elif totalImpulse > 1.25:\n",
    "        return 'A'\n",
    "    elif totalImpulse > 0.625:\n",
    "        return '1/2A'\n",
    "    elif totalImpulse > 0.3126:\n",
    "        return '1/4A'\n",
    "    else:\n",
    "        return 'micro'\n",
    "    \n",
    "Class = motorClass(totalImpulse)"
   ]
  },
  {
   "cell_type": "code",
   "execution_count": 11,
   "metadata": {},
   "outputs": [
    {
     "name": "stdout",
     "output_type": "stream",
     "text": [
      "Total Impulse:\t\t179.37\tN-sec \n",
      "Specific Impulse:\t597.89\tN-sec/Kg \n",
      "Average Thrust:\t\t31.61\tN\n",
      "Motor Class:\t\tH\n"
     ]
    }
   ],
   "source": [
    "st = \"Total Impulse:\\t\\t{:.2f}\\tN-sec \\nSpecific Impulse:\\t{:.2f}\\tN-sec/Kg \\nAverage Thrust:\\t\\t{:.2f}\\tN\"\n",
    "print(st.format(totalImpulse, specificImpulse, avgThrust))\n",
    "print(\"Motor Class:\\t\\t{}\".format(Class))"
   ]
  },
  {
   "cell_type": "code",
   "execution_count": 12,
   "metadata": {},
   "outputs": [
    {
     "name": "stdin",
     "output_type": "stream",
     "text": [
      "Enter rasp file name March_02\n"
     ]
    }
   ],
   "source": [
    "#Generate Rasp File\n",
    "filename = input(\"Enter rasp file name\")\n",
    "filename = filename + \".eng\"\n",
    "f = open(filename, \"a\")"
   ]
  },
  {
   "cell_type": "code",
   "execution_count": 13,
   "metadata": {},
   "outputs": [
    {
     "name": "stdin",
     "output_type": "stream",
     "text": [
      "Enter Motor Diameter (mm):  50\n",
      "Input motor Length (mm):  106\n",
      "Input motor delays separated by dashes or P(plugged) for none:  P\n",
      "Propellant Weight (Kg):  0.3\n",
      "Motor Total Weight (Kg):  0.6\n"
     ]
    }
   ],
   "source": [
    "motorName = Class + str(int(avgThrust))\n",
    "diameter = input(\"Enter Motor Diameter (mm): \")\n",
    "Length = input(\"Input motor Length (mm): \")\n",
    "delays = input(\"Input motor delays separated by dashes or P(plugged) for none: \")\n",
    "pWeight = input(\"Propellant Weight (Kg): \")\n",
    "totalWeight = input(\"Motor Total Weight (Kg): \")\n",
    "manufucturer = \"NKJ\""
   ]
  },
  {
   "cell_type": "code",
   "execution_count": 14,
   "metadata": {},
   "outputs": [
    {
     "data": {
      "text/plain": [
       "26"
      ]
     },
     "execution_count": 14,
     "metadata": {},
     "output_type": "execute_result"
    }
   ],
   "source": [
    "#Write rasp file header\n",
    "f.write(\"; NakujaProject\" + motorName + \"\\n\")\n",
    "f.write(\"; from \" + dataFile + \"\\n\")\n",
    "f.write(\"{} {} {} {} {} {} {} \\n\".format(motorName, diameter, Length, delays, pWeight, totalWeight, manufucturer))"
   ]
  },
  {
   "cell_type": "code",
   "execution_count": 15,
   "metadata": {},
   "outputs": [],
   "source": [
    "thrustATime = np.array([t, thrust]).T\n",
    "np.savetxt(f, thrustATime, delimiter=' ')"
   ]
  },
  {
   "cell_type": "code",
   "execution_count": 16,
   "metadata": {},
   "outputs": [],
   "source": [
    "f.close()"
   ]
  },
  {
   "cell_type": "code",
   "execution_count": null,
   "metadata": {},
   "outputs": [],
   "source": []
  }
 ],
 "metadata": {
  "kernelspec": {
   "display_name": "Python 3 (ipykernel)",
   "language": "python",
   "name": "python3"
  },
  "language_info": {
   "codemirror_mode": {
    "name": "ipython",
    "version": 3
   },
   "file_extension": ".py",
   "mimetype": "text/x-python",
   "name": "python",
   "nbconvert_exporter": "python",
   "pygments_lexer": "ipython3",
   "version": "3.10.2"
  }
 },
 "nbformat": 4,
 "nbformat_minor": 4
}
