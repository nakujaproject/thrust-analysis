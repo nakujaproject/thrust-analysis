{
 "cells": [
  {
   "cell_type": "code",
   "execution_count": 1,
   "metadata": {},
   "outputs": [],
   "source": [
    "import csv\n",
    "import numpy as np\n",
    "import matplotlib.pyplot as plt"
   ]
  },
  {
   "cell_type": "code",
   "execution_count": 2,
   "metadata": {},
   "outputs": [],
   "source": [
    "INITIAL_PROPELANT_WEIGHT = 0.30  #Kg\n",
    "SAMPLE_RATE = 80\n",
    "time_constant = 1/SAMPLE_RATE\n",
    "dataFile = 'March_03.csv'"
   ]
  },
  {
   "cell_type": "code",
   "execution_count": 3,
   "metadata": {},
   "outputs": [],
   "source": [
    "with open(dataFile, newline='') as f:\n",
    "    reader = csv.reader(f)\n",
    "    data = list(reader)"
   ]
  },
  {
   "cell_type": "code",
   "execution_count": 4,
   "metadata": {},
   "outputs": [],
   "source": [
    "a = np.array(data)\n",
    "a = a.astype(float)\n",
    "filtered = a[np.where(a > 0)]"
   ]
  },
  {
   "cell_type": "code",
   "execution_count": 5,
   "metadata": {},
   "outputs": [
    {
     "data": {
      "text/plain": [
       "array([  0.      ,   5.99391 ,   6.510897,   6.952347,   7.41636 ,\n",
       "         8.149167,   8.764254,   9.543168,  10.382904,  11.306025,\n",
       "        12.204621,  13.161096,  14.79348 ,  18.639   ,  19.281555,\n",
       "        20.038887,  21.314187,  26.769528,  28.970892,  29.897937,\n",
       "        33.835671,  36.637407,  39.410694,  47.783529,  46.331649,\n",
       "        47.233188,  56.93724 ,  56.408481,  58.446999,  62.517168,\n",
       "        58.803102,  68.173614,  65.557287,  67.863618,  67.797891,\n",
       "        70.869402,  74.237175,  74.945457,  76.044177,  79.409988,\n",
       "        82.249983,  84.422898,  85.462758,  85.561839,  90.015579,\n",
       "        94.82346 ,  97.186689,  96.658911,  98.780814, 103.221801,\n",
       "       106.135371, 106.796565, 107.825634, 111.663306, 114.961428,\n",
       "       117.110799, 118.502838, 121.040685, 123.797295, 126.157581,\n",
       "       127.419147, 128.353059, 130.532841, 132.280002, 132.863697,\n",
       "       133.757388, 135.060156, 135.448632, 134.595162, 135.591858,\n",
       "       137.594079, 138.794823, 137.945277, 138.402423, 139.411872,\n",
       "       139.663989, 139.653198, 140.638122, 142.462782, 142.690374,\n",
       "       142.038009, 141.719184, 143.123976, 145.147779, 145.388124,\n",
       "       145.025154, 147.162753, 148.588146, 148.259511, 148.419414,\n",
       "       150.607044, 151.779339, 151.08381 , 150.508944, 151.847028,\n",
       "       152.857458, 153.08505 , 153.662859, 156.092796, 156.596049,\n",
       "       156.659814, 157.527018, 157.292559, 156.359628, 157.859577,\n",
       "       159.207471, 158.147991, 157.765401, 159.409557, 159.223167,\n",
       "       157.512303, 156.4695  , 157.152276, 155.703339, 153.074259,\n",
       "       146.758581, 139.804272, 133.020657, 124.872471, 116.865549,\n",
       "       111.115908, 107.019252, 103.234554,  98.787681,  95.772087,\n",
       "        94.152456,  91.975617,  89.30043 ,  88.129116,  88.190919,\n",
       "        85.498074,  83.590029,  82.248021,  82.476594,  81.26604 ,\n",
       "        78.291648,  77.091885,  75.168144,  73.377819,  72.235935,\n",
       "        70.247448,  68.247189,  66.673665,  64.732266,  62.311158,\n",
       "        60.553206,  60.104889,  59.401512,  57.718116,  55.320552,\n",
       "        53.4645  ,  51.820344,  49.632714,  47.875743,  46.550412,\n",
       "        44.730657,  43.084539,  41.616963,  40.675203,  39.31848 ,\n",
       "        37.463409,  36.634464,  35.281665,  33.464853,  32.450499,\n",
       "        32.112054,  31.182066,  28.727604,  27.688725,  27.299268,\n",
       "        25.488342,  24.591708,  24.493608,  23.491026,  22.017564,\n",
       "        21.765447,  21.020868,  19.770093,  19.559178,  19.297251,\n",
       "        18.09945 ,  17.238132,  17.01054 ,  16.449408,  15.378156,\n",
       "        15.11721 ,  14.968098,  14.031243,  13.250367,  13.114989,\n",
       "        12.620565,  11.689596,  11.253051,  11.087262,  10.509453,\n",
       "         9.877689,   9.678546,   9.374436,   8.821152,   8.556282,\n",
       "         8.25021 ,   7.763634,   7.430094,   7.284906,   6.949404,\n",
       "         6.476562,   6.108687,   5.932107,   5.707458,   5.393538,\n",
       "         5.014872,   4.795128,   4.755888,   4.604814,   4.380165,\n",
       "         4.294818,   3.771945,   3.489417,   3.452139,   3.275559,\n",
       "         2.931228,   2.634966,   2.475063,   2.402469,   2.237661,\n",
       "         1.937475,   1.737351,   1.647099,   1.550961,   1.350837,\n",
       "         1.173276,   1.063404,   0.915273,   0.69651 ,   0.497367,\n",
       "         0.357084,   0.243288,   0.      ])"
      ]
     },
     "execution_count": 5,
     "metadata": {},
     "output_type": "execute_result"
    }
   ],
   "source": [
    "filtered = np.append(filtered, 0)\n",
    "filtered = np.insert(filtered, 0, 0)\n",
    "filtered"
   ]
  },
  {
   "cell_type": "code",
   "execution_count": 6,
   "metadata": {},
   "outputs": [],
   "source": [
    "#filtered = np.delete(filtered, [1,2,3,4,10])\n",
    "burnTime = filtered.size * time_constant"
   ]
  },
  {
   "cell_type": "code",
   "execution_count": 7,
   "metadata": {},
   "outputs": [],
   "source": [
    "t = np.linspace(0, burnTime, filtered.size)\n",
    "thrust = filtered"
   ]
  },
  {
   "cell_type": "code",
   "execution_count": 8,
   "metadata": {},
   "outputs": [
    {
     "data": {
      "image/png": "[encoded data removed]",
      "text/plain": [
       "<Figure size 432x288 with 1 Axes>"
      ]
     },
     "metadata": {
      "needs_background": "light"
     },
     "output_type": "display_data"
    }
   ],
   "source": [
    "fig = plt.figure()\n",
    "plt.plot(t, thrust)\n",
    "fig.suptitle('Thrust against time')\n",
    "plt.xlabel('time (s)')\n",
    "plt.ylabel('thrust (N)')\n",
    "fig.savefig('graph')"
   ]
  },
  {
   "cell_type": "code",
   "execution_count": 9,
   "metadata": {},
   "outputs": [],
   "source": [
    "#total impulse\n",
    "#TODO --> Use trapezoidal rule for getting the total impulse\n",
    "totalImpulse = np.sum(thrust) * time_constant\n",
    "#specific impulse\n",
    "specificImpulse = totalImpulse / INITIAL_PROPELANT_WEIGHT\n",
    "#average thrust\n",
    "avgThrust = totalImpulse / burnTime"
   ]
  },
  {
   "cell_type": "code",
   "execution_count": 10,
   "metadata": {},
   "outputs": [],
   "source": [
    "def motorClass(totalImpulse):\n",
    "    if totalImpulse > 5120:\n",
    "        return 'M'\n",
    "    elif totalImpulse > 2560:\n",
    "        return 'L'\n",
    "    elif totalImpulse > 1280:\n",
    "        return 'K'\n",
    "    elif totalImpulse > 640:\n",
    "        return 'J'\n",
    "    elif totalImpulse > 320:\n",
    "        return 'I'\n",
    "    elif totalImpulse > 160:\n",
    "        return 'H'\n",
    "    elif totalImpulse > 80:\n",
    "        return 'G'\n",
    "    elif totalImpulse > 40:\n",
    "        return 'F'\n",
    "    elif totalImpulse > 20:\n",
    "        return 'E'\n",
    "    elif totalImpulse > 10:\n",
    "        return 'D'\n",
    "    elif totalImpulse > 5:\n",
    "        return 'C'\n",
    "    elif totalImpulse > 2.5:\n",
    "        return 'B'\n",
    "    elif totalImpulse > 1.25:\n",
    "        return 'A'\n",
    "    elif totalImpulse > 0.625:\n",
    "        return '1/2A'\n",
    "    elif totalImpulse > 0.3126:\n",
    "        return '1/4A'\n",
    "    else:\n",
    "        return 'micro'\n",
    "    \n",
    "Class = motorClass(totalImpulse)"
   ]
  },
  {
   "cell_type": "code",
   "execution_count": 11,
   "metadata": {},
   "outputs": [
    {
     "name": "stdout",
     "output_type": "stream",
     "text": [
      "Total Impulse:\t\t200.61\tN-sec \n",
      "Specific Impulse:\t668.69\tN-sec/Kg \n",
      "Average Thrust:\t\t67.43\tN\n",
      "Motor Class:\t\tH\n"
     ]
    }
   ],
   "source": [
    "st = \"Total Impulse:\\t\\t{:.2f}\\tN-sec \\nSpecific Impulse:\\t{:.2f}\\tN-sec/Kg \\nAverage Thrust:\\t\\t{:.2f}\\tN\"\n",
    "print(st.format(totalImpulse, specificImpulse, avgThrust))\n",
    "print(\"Motor Class:\\t\\t{}\".format(Class))"
   ]
  },
  {
   "cell_type": "code",
   "execution_count": 12,
   "metadata": {},
   "outputs": [
    {
     "name": "stdin",
     "output_type": "stream",
     "text": [
      "Enter rasp file name March_03\n"
     ]
    }
   ],
   "source": [
    "#Generate Rasp File\n",
    "filename = input(\"Enter rasp file name\")\n",
    "filename = filename + \".eng\"\n",
    "f = open(filename, \"a\")"
   ]
  },
  {
   "cell_type": "code",
   "execution_count": 13,
   "metadata": {},
   "outputs": [
    {
     "name": "stdin",
     "output_type": "stream",
     "text": [
      "Enter Motor Diameter (mm):  50\n",
      "Input motor Length (mm):  100\n",
      "Input motor delays separated by dashes or P(plugged) for none:  P\n",
      "Propellant Weight (Kg):  0.3\n",
      "Motor Total Weight (Kg):  0.6\n"
     ]
    }
   ],
   "source": [
    "motorName = Class + str(int(avgThrust))\n",
    "diameter = input(\"Enter Motor Diameter (mm): \")\n",
    "Length = input(\"Input motor Length (mm): \")\n",
    "delays = input(\"Input motor delays separated by dashes or P(plugged) for none: \")\n",
    "pWeight = input(\"Propellant Weight (Kg): \")\n",
    "totalWeight = input(\"Motor Total Weight (Kg): \")\n",
    "manufucturer = \"NKJ\""
   ]
  },
  {
   "cell_type": "code",
   "execution_count": 14,
   "metadata": {},
   "outputs": [
    {
     "data": {
      "text/plain": [
       "26"
      ]
     },
     "execution_count": 14,
     "metadata": {},
     "output_type": "execute_result"
    }
   ],
   "source": [
    "#Write rasp file header\n",
    "f.write(\"; NakujaProject\" + motorName + \"\\n\")\n",
    "f.write(\"; from \" + dataFile + \"\\n\")\n",
    "f.write(\"{} {} {} {} {} {} {} \\n\".format(motorName, diameter, Length, delays, pWeight, totalWeight, manufucturer))"
   ]
  },
  {
   "cell_type": "code",
   "execution_count": 15,
   "metadata": {},
   "outputs": [],
   "source": [
    "thrustATime = np.array([t, thrust]).T\n",
    "np.savetxt(f, thrustATime, delimiter=' ')"
   ]
  },
  {
   "cell_type": "code",
   "execution_count": 16,
   "metadata": {},
   "outputs": [],
   "source": [
    "f.close()"
   ]
  },
  {
   "cell_type": "code",
   "execution_count": null,
   "metadata": {},
   "outputs": [],
   "source": []
  }
 ],
 "metadata": {
  "kernelspec": {
   "display_name": "Python 3 (ipykernel)",
   "language": "python",
   "name": "python3"
  },
  "language_info": {
   "codemirror_mode": {
    "name": "ipython",
    "version": 3
   },
   "file_extension": ".py",
   "mimetype": "text/x-python",
   "name": "python",
   "nbconvert_exporter": "python",
   "pygments_lexer": "ipython3",
   "version": "3.10.2"
  }
 },
 "nbformat": 4,
 "nbformat_minor": 4
}
