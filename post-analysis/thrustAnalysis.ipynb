{
 "cells": [
  {
   "cell_type": "code",
   "execution_count": 1,
   "metadata": {},
   "outputs": [],
   "source": [
    "import csv\n",
    "import numpy as np\n",
    "import matplotlib.pyplot as plt"
   ]
  },
  {
   "cell_type": "code",
   "execution_count": 2,
   "metadata": {},
   "outputs": [],
   "source": [
    "INITIAL_PROPELANT_WEIGHT = 0.30  #Kg\n",
    "SAMPLE_RATE = 80\n",
    "time_constant = 1/SAMPLE_RATE\n",
    "dataFile = 'march_17.csv'"
   ]
  },
  {
   "cell_type": "code",
   "execution_count": 3,
   "metadata": {},
   "outputs": [],
   "source": [
    "with open(dataFile, newline='') as f:\n",
    "    reader = csv.reader(f)\n",
    "    data = list(reader)"
   ]
  },
  {
   "cell_type": "code",
   "execution_count": 4,
   "metadata": {},
   "outputs": [],
   "source": [
    "a = np.array(data)\n",
    "a = a.astype(float)\n",
    "filtered = a[np.where(a > 0)]"
   ]
  },
  {
   "cell_type": "code",
   "execution_count": 5,
   "metadata": {},
   "outputs": [
    {
     "data": {
      "text/plain": [
       "array([0.0000e+00, 9.5000e-01, 8.5000e-01, 9.6000e-01, 1.0500e+00,\n",
       "       1.2300e+00, 1.3400e+00, 1.3500e+00, 1.4600e+00, 1.4500e+00,\n",
       "       1.6600e+00, 1.7200e+00, 1.9100e+00, 2.1800e+00, 2.1000e+00,\n",
       "       2.2800e+00, 2.5000e+00, 2.3100e+00, 2.7200e+00, 2.9600e+00,\n",
       "       3.4500e+00, 3.9400e+00, 4.6000e+00, 5.2100e+00, 5.7800e+00,\n",
       "       6.4900e+00, 7.3700e+00, 8.2900e+00, 9.9400e+00, 1.0780e+01,\n",
       "       1.2770e+01, 1.5930e+01, 1.9110e+01, 2.2560e+01, 2.9170e+01,\n",
       "       3.3120e+01, 9.8280e+01, 1.0638e+02, 1.1251e+02, 1.1545e+02,\n",
       "       1.1870e+02, 1.2254e+02, 1.2755e+02, 1.3213e+02, 1.3407e+02,\n",
       "       1.3727e+02, 1.4265e+02, 1.4685e+02, 1.4891e+02, 1.5121e+02,\n",
       "       1.5143e+02, 1.5348e+02, 1.5447e+02, 1.5369e+02, 1.5455e+02,\n",
       "       1.5481e+02, 1.5455e+02, 1.5447e+02, 1.5571e+02, 1.5534e+02,\n",
       "       1.5371e+02, 1.5300e+02, 1.5524e+02, 1.5413e+02, 1.5415e+02,\n",
       "       1.5781e+02, 1.5788e+02, 1.5875e+02, 1.6009e+02, 1.6176e+02,\n",
       "       1.5980e+02, 1.5606e+02, 1.5788e+02, 1.6162e+02, 1.6353e+02,\n",
       "       1.6186e+02, 1.6195e+02, 1.6316e+02, 1.6551e+02, 1.6593e+02,\n",
       "       1.6446e+02, 1.6686e+02, 1.6954e+02, 1.6981e+02, 1.7011e+02,\n",
       "       1.6726e+02, 1.6553e+02, 1.6808e+02, 1.6443e+02, 1.6313e+02,\n",
       "       1.6513e+02, 1.6277e+02, 1.6332e+02, 1.6416e+02, 1.6398e+02,\n",
       "       1.6515e+02, 1.6224e+02, 1.6024e+02, 1.5813e+02, 1.5610e+02,\n",
       "       1.5597e+02, 1.5453e+02, 1.5361e+02, 1.5364e+02, 1.5338e+02,\n",
       "       1.5059e+02, 1.4763e+02, 1.4724e+02, 1.4696e+02, 1.4446e+02,\n",
       "       1.4374e+02, 1.4146e+02, 1.3991e+02, 1.3885e+02, 1.3482e+02,\n",
       "       1.3202e+02, 1.2824e+02, 1.2392e+02, 1.2218e+02, 1.2055e+02,\n",
       "       1.1867e+02, 1.1886e+02, 1.1524e+02, 1.1113e+02, 1.0900e+02,\n",
       "       1.0602e+02, 1.0463e+02, 1.0366e+02, 9.9620e+01, 9.7980e+01,\n",
       "       9.7040e+01, 9.5670e+01, 9.3720e+01, 9.1220e+01, 8.9080e+01,\n",
       "       8.8370e+01, 8.8550e+01, 8.6300e+01, 8.6200e+01, 8.3150e+01,\n",
       "       7.8940e+01, 7.9980e+01, 7.8210e+01, 7.4930e+01, 7.2940e+01,\n",
       "       7.3460e+01, 7.2030e+01, 6.7270e+01, 6.4770e+01, 6.4090e+01,\n",
       "       6.2550e+01, 6.1550e+01, 5.9410e+01, 5.9430e+01, 5.7740e+01,\n",
       "       5.7100e+01, 5.6180e+01, 5.5010e+01, 5.3510e+01, 5.1180e+01,\n",
       "       5.0770e+01, 4.8900e+01, 4.7890e+01, 4.5900e+01, 4.4320e+01,\n",
       "       4.2740e+01, 4.1650e+01, 4.0300e+01, 3.9430e+01, 3.7840e+01,\n",
       "       3.6910e+01, 3.5470e+01, 3.4090e+01, 3.3020e+01, 3.1900e+01,\n",
       "       3.0840e+01, 2.8690e+01, 2.6990e+01, 2.5970e+01, 2.4280e+01,\n",
       "       2.3010e+01, 2.1510e+01, 1.9680e+01, 1.8390e+01, 1.6470e+01,\n",
       "       1.5260e+01, 1.4160e+01, 1.3160e+01, 1.1580e+01, 1.0780e+01,\n",
       "       9.8900e+00, 8.5600e+00, 7.5200e+00, 6.7200e+00, 5.9600e+00,\n",
       "       5.3400e+00, 4.7800e+00, 3.9800e+00, 3.6500e+00, 3.0500e+00,\n",
       "       2.5100e+00, 2.2600e+00, 1.4700e+00, 1.2000e+00, 1.2100e+00,\n",
       "       9.1000e-01, 6.2000e-01, 5.1000e-01, 4.4000e-01, 1.8000e-01,\n",
       "       6.0000e-02, 0.0000e+00])"
      ]
     },
     "execution_count": 5,
     "metadata": {},
     "output_type": "execute_result"
    }
   ],
   "source": [
    "filtered = np.append(filtered, 0)\n",
    "filtered = np.insert(filtered, 0, 0)\n",
    "filtered"
   ]
  },
  {
   "cell_type": "code",
   "execution_count": 6,
   "metadata": {},
   "outputs": [],
   "source": [
    "#filtered = np.delete(filtered, [1,2,3,4,10])\n",
    "burnTime = filtered.size * time_constant"
   ]
  },
  {
   "cell_type": "code",
   "execution_count": 7,
   "metadata": {},
   "outputs": [],
   "source": [
    "t = np.linspace(0, burnTime, filtered.size)\n",
    "thrust = filtered"
   ]
  },
  {
   "cell_type": "code",
   "execution_count": 8,
   "metadata": {},
   "outputs": [
    {
     "data": {
      "image/png": "[encoded data removed]",
      "text/plain": [
       "<Figure size 432x288 with 1 Axes>"
      ]
     },
     "metadata": {
      "needs_background": "light"
     },
     "output_type": "display_data"
    }
   ],
   "source": [
    "fig = plt.figure()\n",
    "plt.plot(t, thrust)\n",
    "fig.suptitle('Thrust against time')\n",
    "plt.xlabel('time (s)')\n",
    "plt.ylabel('thrust (N)')\n",
    "fig.savefig('graph')"
   ]
  },
  {
   "cell_type": "code",
   "execution_count": 9,
   "metadata": {},
   "outputs": [],
   "source": [
    "#total impulse\n",
    "#TODO --> Use trapezoidal rule for getting the total impulse\n",
    "totalImpulse = np.sum(thrust) * time_constant\n",
    "#specific impulse\n",
    "specificImpulse = totalImpulse / INITIAL_PROPELANT_WEIGHT\n",
    "#average thrust\n",
    "avgThrust = totalImpulse / burnTime"
   ]
  },
  {
   "cell_type": "code",
   "execution_count": 10,
   "metadata": {},
   "outputs": [],
   "source": [
    "def motorClass(totalImpulse):\n",
    "    if totalImpulse > 5120:\n",
    "        return 'M'\n",
    "    elif totalImpulse > 2560:\n",
    "        return 'L'\n",
    "    elif totalImpulse > 1280:\n",
    "        return 'K'\n",
    "    elif totalImpulse > 640:\n",
    "        return 'J'\n",
    "    elif totalImpulse > 320:\n",
    "        return 'I'\n",
    "    elif totalImpulse > 160:\n",
    "        return 'H'\n",
    "    elif totalImpulse > 80:\n",
    "        return 'G'\n",
    "    elif totalImpulse > 40:\n",
    "        return 'F'\n",
    "    elif totalImpulse > 20:\n",
    "        return 'E'\n",
    "    elif totalImpulse > 10:\n",
    "        return 'D'\n",
    "    elif totalImpulse > 5:\n",
    "        return 'C'\n",
    "    elif totalImpulse > 2.5:\n",
    "        return 'B'\n",
    "    elif totalImpulse > 1.25:\n",
    "        return 'A'\n",
    "    elif totalImpulse > 0.625:\n",
    "        return '1/2A'\n",
    "    elif totalImpulse > 0.3126:\n",
    "        return '1/4A'\n",
    "    else:\n",
    "        return 'micro'\n",
    "    \n",
    "Class = motorClass(totalImpulse)"
   ]
  },
  {
   "cell_type": "code",
   "execution_count": 11,
   "metadata": {},
   "outputs": [
    {
     "name": "stdout",
     "output_type": "stream",
     "text": [
      "Total Impulse:\t\t214.29\tN-sec \n",
      "Specific Impulse:\t714.31\tN-sec/Kg \n",
      "Average Thrust:\t\t80.87\tN\n",
      "Motor Class:\t\tH\n"
     ]
    }
   ],
   "source": [
    "st = \"Total Impulse:\\t\\t{:.2f}\\tN-sec \\nSpecific Impulse:\\t{:.2f}\\tN-sec/Kg \\nAverage Thrust:\\t\\t{:.2f}\\tN\"\n",
    "print(st.format(totalImpulse, specificImpulse, avgThrust))\n",
    "print(\"Motor Class:\\t\\t{}\".format(Class))"
   ]
  },
  {
   "cell_type": "code",
   "execution_count": 12,
   "metadata": {},
   "outputs": [
    {
     "name": "stdin",
     "output_type": "stream",
     "text": [
      "Enter rasp file name kok\n"
     ]
    }
   ],
   "source": [
    "#Generate Rasp File\n",
    "filename = input(\"Enter rasp file name\")\n",
    "filename = filename + \".eng\"\n",
    "f = open(filename, \"a\")"
   ]
  },
  {
   "cell_type": "code",
   "execution_count": 13,
   "metadata": {},
   "outputs": [
    {
     "name": "stdin",
     "output_type": "stream",
     "text": [
      "Enter Motor Diameter (mm):  00\n",
      "Input motor Length (mm):  00\n",
      "Input motor delays separated by dashes or P(plugged) for none:  00\n",
      "Propellant Weight (Kg):  00\n",
      "Motor Total Weight (Kg):  00\n"
     ]
    }
   ],
   "source": [
    "motorName = Class + str(int(avgThrust))\n",
    "diameter = input(\"Enter Motor Diameter (mm): \")\n",
    "Length = input(\"Input motor Length (mm): \")\n",
    "delays = input(\"Input motor delays separated by dashes or P(plugged) for none: \")\n",
    "pWeight = input(\"Propellant Weight (Kg): \")\n",
    "totalWeight = input(\"Motor Total Weight (Kg): \")\n",
    "manufucturer = \"NKJ\""
   ]
  },
  {
   "cell_type": "code",
   "execution_count": 14,
   "metadata": {},
   "outputs": [
    {
     "data": {
      "text/plain": [
       "24"
      ]
     },
     "execution_count": 14,
     "metadata": {},
     "output_type": "execute_result"
    }
   ],
   "source": [
    "#Write rasp file header\n",
    "f.write(\"; NakujaProject\" + motorName + \"\\n\")\n",
    "f.write(\"; from \" + dataFile + \"\\n\")\n",
    "f.write(\"{} {} {} {} {} {} {} \\n\".format(motorName, diameter, Length, delays, pWeight, totalWeight, manufucturer))"
   ]
  },
  {
   "cell_type": "code",
   "execution_count": 15,
   "metadata": {},
   "outputs": [],
   "source": [
    "thrustATime = np.array([t, thrust]).T\n",
    "np.savetxt(f, thrustATime, delimiter=' ')"
   ]
  },
  {
   "cell_type": "code",
   "execution_count": 16,
   "metadata": {},
   "outputs": [],
   "source": [
    "f.close()"
   ]
  },
  {
   "cell_type": "code",
   "execution_count": null,
   "metadata": {},
   "outputs": [],
   "source": []
  }
 ],
 "metadata": {
  "kernelspec": {
   "display_name": "Python 3 (ipykernel)",
   "language": "python",
   "name": "python3"
  },
  "language_info": {
   "codemirror_mode": {
    "name": "ipython",
    "version": 3
   },
   "file_extension": ".py",
   "mimetype": "text/x-python",
   "name": "python",
   "nbconvert_exporter": "python",
   "pygments_lexer": "ipython3",
   "version": "3.10.2"
  }
 },
 "nbformat": 4,
 "nbformat_minor": 4
}
