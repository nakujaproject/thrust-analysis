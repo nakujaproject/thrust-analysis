{
 "cells": [
  {
   "cell_type": "code",
   "execution_count": 75,
   "metadata": {},
   "outputs": [],
   "source": [
    "import csv\n",
    "import numpy as np\n",
    "import matplotlib.pyplot as plt"
   ]
  },
  {
   "cell_type": "code",
   "execution_count": 85,
   "metadata": {},
   "outputs": [],
   "source": [
    "INITIAL_PROPELANT_WEIGHT = 0.015  #Kg\n",
    "SAMPLE_RATE = 50\n",
    "time_constant = 1/SAMPLE_RATE\n",
    "dataFile = 'test-data.csv'"
   ]
  },
  {
   "cell_type": "code",
   "execution_count": 77,
   "metadata": {},
   "outputs": [],
   "source": [
    "with open(dataFile, newline='') as f:\n",
    "    reader = csv.reader(f)\n",
    "    data = list(reader)"
   ]
  },
  {
   "cell_type": "code",
   "execution_count": 78,
   "metadata": {},
   "outputs": [],
   "source": [
    "a = np.array(data)\n",
    "a = a.astype(float)\n",
    "filtered = a[np.where(a > 0)]"
   ]
  },
  {
   "cell_type": "code",
   "execution_count": 79,
   "metadata": {},
   "outputs": [],
   "source": [
    "filtered = np.append(filtered, 0)\n",
    "filtered = np.insert(filtered, 0, 0)"
   ]
  },
  {
   "cell_type": "code",
   "execution_count": 80,
   "metadata": {},
   "outputs": [],
   "source": [
    "burnTime = filtered.size * time_constant"
   ]
  },
  {
   "cell_type": "code",
   "execution_count": 81,
   "metadata": {},
   "outputs": [],
   "source": [
    "t = np.linspace(0, burnTime, filtered.size)\n",
    "thrust = 0.00981 * filtered"
   ]
  },
  {
   "cell_type": "code",
   "execution_count": 82,
   "metadata": {},
   "outputs": [
    {
     "data": {
      "image/png": "[encoded data removed]",
      "text/plain": [
       "<Figure size 432x288 with 1 Axes>"
      ]
     },
     "metadata": {
      "needs_background": "light"
     },
     "output_type": "display_data"
    }
   ],
   "source": [
    "fig = plt.figure()\n",
    "plt.plot(t, thrust)\n",
    "fig.suptitle('Thrust against time')\n",
    "plt.xlabel('time (s)')\n",
    "plt.ylabel('thrust (N)')\n",
    "fig.savefig('graph')"
   ]
  },
  {
   "cell_type": "code",
   "execution_count": 88,
   "metadata": {},
   "outputs": [],
   "source": [
    "#total impulse\n",
    "totalImpulse = np.sum(thrust) * time_constant\n",
    "#specific impulse\n",
    "specificImpulse = totalImpulse / INITIAL_PROPELANT_WEIGHT\n",
    "#average thrust\n",
    "avgThrust = totalImpulse / burnTime"
   ]
  },
  {
   "cell_type": "code",
   "execution_count": 102,
   "metadata": {},
   "outputs": [],
   "source": [
    "def motorClass(totalImpulse):\n",
    "    if totalImpulse > 5120:\n",
    "        return 'M'\n",
    "    elif totalImpulse > 2560:\n",
    "        return 'L'\n",
    "    elif totalImpulse > 1280:\n",
    "        return 'K'\n",
    "    elif totalImpulse > 640:\n",
    "        return 'J'\n",
    "    elif totalImpulse > 320:\n",
    "        return 'I'\n",
    "    elif totalImpulse > 160:\n",
    "        return 'H'\n",
    "    elif totalImpulse > 80:\n",
    "        return 'G'\n",
    "    elif totalImpulse > 40:\n",
    "        return 'F'\n",
    "    elif totalImpulse > 20:\n",
    "        return 'E'\n",
    "    elif totalImpulse > 10:\n",
    "        return 'D'\n",
    "    elif totalImpulse > 5:\n",
    "        return 'C'\n",
    "    elif totalImpulse > 2.5:\n",
    "        return 'B'\n",
    "    elif totalImpulse > 1.25:\n",
    "        return 'A'\n",
    "    elif totalImpulse > 0.625:\n",
    "        return '1/2A'\n",
    "    elif totalImpulse > 0.3126:\n",
    "        return '1/4A'\n",
    "    else:\n",
    "        return 'micro'\n",
    "    \n",
    "Class = motorClass(totalImpulse)"
   ]
  },
  {
   "cell_type": "code",
   "execution_count": 103,
   "metadata": {},
   "outputs": [
    {
     "name": "stdout",
     "output_type": "stream",
     "text": [
      "Total Impulse:\t\t0.35\tN-sec \n",
      "Specific Impulse:\t23.30\tN-sec/Kg \n",
      "Average Thrust:\t\t0.38\tN\n",
      "Motor Class:\t\t 1/4A\n"
     ]
    }
   ],
   "source": [
    "str = \"Total Impulse:\\t\\t{:.2f}\\tN-sec \\nSpecific Impulse:\\t{:.2f}\\tN-sec/Kg \\nAverage Thrust:\\t\\t{:.2f}\\tN\"\n",
    "print(str.format(totalImpulse, specificImpulse, avgThrust))\n",
    "print(\"Motor Class:\\t\\t{}\".format(Class))"
   ]
  },
  {
   "cell_type": "code",
   "execution_count": null,
   "metadata": {},
   "outputs": [],
   "source": []
  }
 ],
 "metadata": {
  "kernelspec": {
   "display_name": "Python 3",
   "language": "python",
   "name": "python3"
  },
  "language_info": {
   "codemirror_mode": {
    "name": "ipython",
    "version": 3
   },
   "file_extension": ".py",
   "mimetype": "text/x-python",
   "name": "python",
   "nbconvert_exporter": "python",
   "pygments_lexer": "ipython3",
   "version": "3.7.6"
  }
 },
 "nbformat": 4,
 "nbformat_minor": 4
}
